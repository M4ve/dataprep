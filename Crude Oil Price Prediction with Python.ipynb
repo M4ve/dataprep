{
 "cells": [
  {
   "cell_type": "markdown",
   "metadata": {},
   "source": [
    "# Crude Oil Price Prediction with Python\n",
    "\n",
    "hjkhjkhjkhj\n",
    "\n",
    "  - hjkhjk\n",
    "  - hjhjkhjkt\n",
    "  - edrtzrtez\n",
    "\n",
    "# 1. Data Preparation"
   ]
  },
  {
   "cell_type": "code",
   "execution_count": 4,
   "metadata": {},
   "outputs": [
    {
     "name": "stdout",
     "output_type": "stream",
     "text": [
      "Hello World\n"
     ]
    }
   ],
   "source": [
    "print(\"Hello World\")"
   ]
  },
  {
   "cell_type": "code",
   "execution_count": 6,
   "metadata": {},
   "outputs": [
    {
     "data": {
      "text/plain": [
       "Available line magics:\n",
       "%alias  %alias_magic  %autocall  %automagic  %autosave  %bookmark  %cd  %clear  %cls  %colors  %config  %connect_info  %copy  %ddir  %debug  %dhist  %dirs  %doctest_mode  %echo  %ed  %edit  %env  %gui  %hist  %history  %killbgscripts  %ldir  %less  %load  %load_ext  %loadpy  %logoff  %logon  %logstart  %logstate  %logstop  %ls  %lsmagic  %macro  %magic  %matplotlib  %mkdir  %more  %notebook  %page  %pastebin  %pdb  %pdef  %pdoc  %pfile  %pinfo  %pinfo2  %popd  %pprint  %precision  %profile  %prun  %psearch  %psource  %pushd  %pwd  %pycat  %pylab  %qtconsole  %quickref  %recall  %rehashx  %reload_ext  %ren  %rep  %rerun  %reset  %reset_selective  %rmdir  %run  %save  %sc  %set_env  %store  %sx  %system  %tb  %time  %timeit  %unalias  %unload_ext  %who  %who_ls  %whos  %xdel  %xmode\n",
       "\n",
       "Available cell magics:\n",
       "%%!  %%HTML  %%SVG  %%bash  %%capture  %%cmd  %%debug  %%file  %%html  %%javascript  %%js  %%latex  %%markdown  %%perl  %%prun  %%pypy  %%python  %%python2  %%python3  %%ruby  %%script  %%sh  %%svg  %%sx  %%system  %%time  %%timeit  %%writefile\n",
       "\n",
       "Automagic is ON, % prefix IS NOT needed for line magics."
      ]
     },
     "execution_count": 6,
     "metadata": {},
     "output_type": "execute_result"
    }
   ],
   "source": [
    "%lsmagic"
   ]
  },
  {
   "cell_type": "code",
   "execution_count": 18,
   "metadata": {},
   "outputs": [
    {
     "data": {
      "text/html": [
       "<iframe class=\"ytplayer\" type=\"text/html\" width=\"520\" height=\"360\" src=\"https://www.youtube.com/embed/HW29067qVWk\" frameborder=\"0\" allowfullscreen></iframe>"
      ],
      "text/plain": [
       "<IPython.core.display.HTML object>"
      ]
     },
     "metadata": {},
     "output_type": "execute_result"
    }
   ],
   "source": [
    "%%HTML\n",
    "<iframe class=\"ytplayer\" type=\"text/html\" width=\"520\" height=\"360\" src=\"https://www.youtube.com/embed/HW29067qVWk\" frameborder=\"0\" allowfullscreen></iframe>"
   ]
  },
  {
   "cell_type": "code",
   "execution_count": null,
   "metadata": {},
   "outputs": [],
   "source": [
    "Hilfreiche Websites"
   ]
  },
  {
   "cell_type": "code",
   "execution_count": null,
   "metadata": {},
   "outputs": [],
   "source": [
    "%%HTML\n",
    "<a href=\"https://dillinger.io/\">Markdown by Dillinger</a>\n",
    "<br>\n",
    "<a href=\"https://github.com/ipython/ipython\">Github IPython aka Jupyter</a>"
   ]
  },
  {
   "cell_type": "code",
   "execution_count": 35,
   "metadata": {},
   "outputs": [
    {
     "name": "stdout",
     "output_type": "stream",
     "text": [
      "Data Preparation\n",
      "\n",
      "        Date  Price   Open   High    Low    Vol. Change %\n",
      "Feb 01  2018  69.46  68.95  69.71  68.82       -    0.59%\n",
      "Jan 31  2018  69.05  68.43  69.15  68.33   20.43    0.04%\n",
      "Jan 30  2018  69.02  69.30  69.39  68.40  135.87   -0.63%\n",
      "Jan 29  2018  69.46  70.47  70.64  69.07  202.24   -1.50%\n",
      "Jan 26  2018  70.52  70.07  70.83  70.05  227.60    0.14%\n",
      "\n",
      "           Date  Year Month Day    Low   High   Open  Close  Change  Volume\n",
      "2582 2008-02-01  2008   Feb  01  88.95  92.49  91.50  89.44   -3.00  143.04\n",
      "2581 2008-02-04  2008   Feb  04  88.63  91.12  89.10  90.47    1.15  112.22\n",
      "2580 2008-02-05  2008   Feb  05  88.05  90.40  90.06  88.82   -1.82  107.93\n",
      "2579 2008-02-06  2008   Feb  06  87.53  89.60  88.50  87.78   -1.17  113.07\n",
      "2578 2008-02-07  2008   Feb  07  86.83  88.77  87.60  88.51    0.83  102.48\n",
      "\n",
      "           Date       Low      High      Open     Close    Change    Volume\n",
      "2582 2008-02-01  0.213280  0.355981  0.362791  0.153989  0.000000  1.000000\n",
      "2581 2008-02-04  0.181087  0.224880  0.139535  0.249536  0.603198  0.741269\n",
      "2580 2008-02-05  0.122736  0.155981  0.228837  0.096475  0.171512  0.705255\n",
      "2579 2008-02-06  0.070423  0.079426  0.083721  0.000000  0.265988  0.748405\n",
      "2578 2008-02-07  0.000000  0.000000  0.000000  0.067718  0.556686  0.659503\n",
      "2577 2008-02-08  0.196177  0.339713  0.109767  0.385900  1.000000  0.893301\n",
      "2576 2008-02-11  0.428571  0.550239  0.472558  0.533395  0.687500  0.774429\n",
      "2575 2008-02-12  0.528169  0.512919  0.529302  0.471243  0.331395  0.629197\n",
      "2574 2008-02-13  0.559356  0.500478  0.501395  0.513915  0.508721  0.504365\n",
      "2573 2008-02-14  0.658954  0.643062  0.546047  0.678108  0.712209  0.000000\n",
      "2572 2008-02-15  0.723340  0.672727  0.683721  0.635436  0.366279  0.771575\n",
      "2571 2008-02-18  0.765594  0.638278  0.679070  0.661410  0.479651  0.108126\n",
      "2570 2008-02-19  0.802817  0.950239  0.673488  1.000000  0.995640  0.748741\n",
      "2569 2008-02-20  1.000000  1.000000  0.950698  0.987013  0.415698  0.649933\n",
      "2568 2008-02-21  0.864185  0.978947  1.000000  0.784787  0.114826  0.924278\n"
     ]
    }
   ],
   "source": [
    "import csv\n",
    "import pandas as pd\n",
    "import matplotlib.pyplot as plt\n",
    "import sklearn.preprocessing as skp\n",
    "from sklearn.preprocessing import LabelEncoder, OneHotEncoder\n",
    "from sklearn.model_selection import train_test_split\n",
    "from keras.models import Sequential\n",
    "from keras.layers import Dense\n",
    "import tensorflow as tf\n",
    "import numpy as np\n",
    "\n",
    "\n",
    "print(\"Data Preparation\")\n",
    "print()\n",
    "csv_file = open(\"BrentDataset.csv\")\n",
    "reader = csv.reader(csv_file)\n",
    "#print(next(reader))\n",
    "\n",
    "dta_v = pd.read_csv(\"BrentDataset.csv\")\n",
    "\n",
    "def dta_vanilla ():\n",
    "    return dta_v\n",
    "\n",
    "def dta_preparation():\n",
    "    dta = dta_v.reset_index()   #setzt Index zurück\n",
    "    #print(dta.head())\n",
    "    date_split = dta[\"index\"].str.split(expand=True)    #neuer Datensatz aus Index, gesplittet in Monat und Tag\n",
    "    del dta[\"index\"]                                    #löscht Spalte Index aus ursprünglichem Datensatz\n",
    "    dta = pd.concat((date_split, dta), axis=1)          #Verbindet beide Datensätze\n",
    "    dta = dta.rename(columns={0: \"Month\", 1: \"Day\", \"Date\": \"Year\", \"Price\": \"Close\", \"Vol.\": \"Volume\", \"Change %\": \"Change\"})  #Umbennenungen\n",
    "    dta.Change = [x.strip(\"%\") for x in dta.Change]     #löscht %-Zeichen aus Spalte Change für jeden Datensatz\n",
    "    dta.Volume = [x.replace(\"-\",\"0\") for x in dta.Volume]   #ersetzt \"-\"-Zeichen mit \"0\"\n",
    "    dta[[\"Volume\"]] = dta[[\"Volume\"]].astype(float)         #Typanpassung\n",
    "    dta[[\"Change\"]] = dta[[\"Change\"]].astype(float)         #Typanpassung\n",
    "    dta[[\"Year\"]] = dta[[\"Year\"]].astype(str)               #Typanpassung\n",
    "    dta[\"Date\"] = dta[\"Year\"] + \"/\" + dta[\"Month\"] + \"/\" + dta[\"Day\"]       #neuer Datensatz mit Spalte Date aus Year, Month und Day\n",
    "    dta_date = pd.to_datetime(dta[\"Date\"])              #Typanpassung für Date\n",
    "    del dta[\"Date\"]                             #löscht alte Spalte \"Date\"\n",
    "    dta_final = pd.concat((dta, dta_date), axis=1)      #verbindet alten und neuen Datensatz\n",
    "    dta_final.sort_values(by=[\"Date\"], ascending=True, inplace=True)    #Sortierung der Daten nach Date\n",
    "    #print(list(dta_final.columns.values))\n",
    "    dta_final = dta_final[[\"Date\",\"Year\",\"Month\",\"Day\",\"Low\",\"High\",\"Open\",\"Close\",\"Change\",\"Volume\"]]  #finale Anordnung der Spalten\n",
    "    #print(dta_final.head())\n",
    "    return dta_final\n",
    "    #print(dta_final.head())\n",
    "\n",
    "def dta_rescaled(dta_final):\n",
    "    scaler =skp.MinMaxScaler()\n",
    "    dta_final[[\"Low\", \"High\", \"Open\", \"Close\", \"Change\", \"Volume\"]] = scaler.fit_transform(dta_final[[\"Low\", \"High\", \"Open\", \"Close\", \"Change\", \"Volume\"]])\n",
    "    np.set_printoptions(precision=3)\n",
    "    return dta_final\n",
    "    #dta_v = dta_final\n",
    "    #print(dta_final.head())\n",
    "\n",
    "\n",
    "print(dta_v.head())\n",
    "print()\n",
    "print(dta_preparation().head())\n",
    "print()\n",
    "print(dta_rescaled(dta_preparation()[[\"Date\", \"Low\", \"High\", \"Open\", \"Close\", \"Change\", \"Volume\"]].head(15)))\n",
    "\n"
   ]
  },
  {
   "cell_type": "code",
   "execution_count": null,
   "metadata": {},
   "outputs": [],
   "source": []
  }
 ],
 "metadata": {
  "kernelspec": {
   "display_name": "Python 3",
   "language": "python",
   "name": "python3"
  },
  "language_info": {
   "codemirror_mode": {
    "name": "ipython",
    "version": 3
   },
   "file_extension": ".py",
   "mimetype": "text/x-python",
   "name": "python",
   "nbconvert_exporter": "python",
   "pygments_lexer": "ipython3",
   "version": "3.6.5"
  }
 },
 "nbformat": 4,
 "nbformat_minor": 2
}
